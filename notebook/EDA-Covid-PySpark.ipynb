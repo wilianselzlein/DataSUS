{
 "cells": [
  {
   "cell_type": "markdown",
   "metadata": {},
   "source": [
    "# EDA Covid"
   ]
  },
  {
   "cell_type": "code",
   "execution_count": 2,
   "metadata": {},
   "outputs": [],
   "source": [
    "# !curl -o /tmp/postgresql-42.1.4.jar https://jdbc.postgresql.org/download/postgresql-42.1.4.jar"
   ]
  },
  {
   "cell_type": "code",
   "execution_count": 3,
   "metadata": {},
   "outputs": [],
   "source": [
    "# !pyspark --driver-class-path /tmp/postgresql-42.1.4.jar --jars /tmp/postgresql-42.1.4.jar"
   ]
  },
  {
   "cell_type": "code",
   "execution_count": 1,
   "metadata": {},
   "outputs": [],
   "source": [
    "from pyspark import SparkContext, SparkConf\n",
    "from pyspark.sql import DataFrameReader, SQLContext, SparkSession\n",
    "\n",
    "import os"
   ]
  },
  {
   "cell_type": "markdown",
   "metadata": {
    "heading_collapsed": true
   },
   "source": [
    "## Mode 1"
   ]
  },
  {
   "cell_type": "code",
   "execution_count": 3,
   "metadata": {
    "hidden": true
   },
   "outputs": [],
   "source": [
    "spark = SparkSession \\\n",
    "    .builder \\\n",
    "    .appName(\"DataSUS\") \\\n",
    "    .config(\"spark.jars\", \"/opt/spark/jars/postgresql-42.2.22.jar\") \\\n",
    "    .master('spark://wilian-ubuntu:7077') \\\n",
    "    .getOrCreate()"
   ]
  },
  {
   "cell_type": "code",
   "execution_count": 4,
   "metadata": {
    "hidden": true
   },
   "outputs": [
    {
     "data": {
      "text/plain": [
       "DataFrame[database: string, tableName: string, isTemporary: boolean]"
      ]
     },
     "execution_count": 4,
     "metadata": {},
     "output_type": "execute_result"
    }
   ],
   "source": [
    "spark.sql(\"SHOW TABLES\")"
   ]
  },
  {
   "cell_type": "code",
   "execution_count": 8,
   "metadata": {
    "hidden": true
   },
   "outputs": [],
   "source": [
    "df = spark.read.format(\"jdbc\"). \\\n",
    "options(\n",
    "         url='jdbc:postgresql://localhost:5432/datasus', # jdbc:postgresql://<host>:<port>/<database>\n",
    "         dbtable='sia_pa_rs',\n",
    "         user='postgres',\n",
    "         password='postgres',\n",
    "         driver='org.postgresql.Driver',\n",
    "        #partitionColumn='index',\n",
    "        ).\\\n",
    "load()"
   ]
  },
  {
   "cell_type": "code",
   "execution_count": null,
   "metadata": {
    "hidden": true
   },
   "outputs": [],
   "source": []
  },
  {
   "cell_type": "code",
   "execution_count": 9,
   "metadata": {
    "hidden": true,
    "scrolled": true
   },
   "outputs": [
    {
     "name": "stdout",
     "output_type": "stream",
     "text": [
      "root\n",
      " |-- index: long (nullable = true)\n",
      " |-- pa_gestao: long (nullable = true)\n",
      " |-- pa_condic: string (nullable = true)\n",
      " |-- pa_ufmun: long (nullable = true)\n",
      " |-- pa_regct: long (nullable = true)\n",
      " |-- pa_incout: long (nullable = true)\n",
      " |-- pa_incurg: long (nullable = true)\n",
      " |-- pa_tpups: long (nullable = true)\n",
      " |-- pa_tippre: long (nullable = true)\n",
      " |-- pa_mn_ind: string (nullable = true)\n",
      " |-- pa_cnpjcpf: long (nullable = true)\n",
      " |-- pa_cnpjmnt: long (nullable = true)\n",
      " |-- pa_cnpj_cc: long (nullable = true)\n",
      " |-- pa_mvm: long (nullable = true)\n",
      " |-- pa_cmp: long (nullable = true)\n",
      " |-- pa_proc_id: long (nullable = true)\n",
      " |-- pa_tpfin: long (nullable = true)\n",
      " |-- pa_subfin: long (nullable = true)\n",
      " |-- pa_nivcpl: long (nullable = true)\n",
      " |-- pa_docorig: string (nullable = true)\n",
      " |-- pa_autoriz: string (nullable = true)\n",
      " |-- pa_cnsmed: long (nullable = true)\n",
      " |-- pa_cbocod: string (nullable = true)\n",
      " |-- pa_motsai: long (nullable = true)\n",
      " |-- pa_obito: long (nullable = true)\n",
      " |-- pa_encerr: long (nullable = true)\n",
      " |-- pa_perman: long (nullable = true)\n",
      " |-- pa_alta: long (nullable = true)\n",
      " |-- pa_transf: long (nullable = true)\n",
      " |-- pa_cidpri: string (nullable = true)\n",
      " |-- pa_cidsec: string (nullable = true)\n",
      " |-- pa_cidcas: string (nullable = true)\n",
      " |-- pa_catend: long (nullable = true)\n",
      " |-- pa_idade: long (nullable = true)\n",
      " |-- idademin: double (nullable = true)\n",
      " |-- idademax: double (nullable = true)\n",
      " |-- pa_flidade: long (nullable = true)\n",
      " |-- pa_sexo: string (nullable = true)\n",
      " |-- pa_racacor: long (nullable = true)\n",
      " |-- pa_munpcn: long (nullable = true)\n",
      " |-- pa_qtdpro: long (nullable = true)\n",
      " |-- pa_qtdapr: long (nullable = true)\n",
      " |-- pa_valpro: double (nullable = true)\n",
      " |-- pa_valapr: double (nullable = true)\n",
      " |-- pa_ufdif: long (nullable = true)\n",
      " |-- pa_mndif: long (nullable = true)\n",
      " |-- pa_dif_val: double (nullable = true)\n",
      " |-- nu_vpa_tot: double (nullable = true)\n",
      " |-- nu_pa_tot: double (nullable = true)\n",
      " |-- pa_indica: long (nullable = true)\n",
      " |-- pa_codoco: long (nullable = true)\n",
      " |-- pa_flqt: string (nullable = true)\n",
      " |-- pa_fler: long (nullable = true)\n",
      " |-- pa_etnia: string (nullable = true)\n",
      " |-- pa_vl_cf: double (nullable = true)\n",
      " |-- pa_vl_cl: double (nullable = true)\n",
      " |-- pa_vl_inc: double (nullable = true)\n",
      " |-- pa_srv_c: double (nullable = true)\n",
      " |-- pa_ine: double (nullable = true)\n",
      " |-- pa_nat_jur: long (nullable = true)\n",
      "\n"
     ]
    }
   ],
   "source": [
    "df.printSchema()"
   ]
  },
  {
   "cell_type": "code",
   "execution_count": 12,
   "metadata": {
    "hidden": true,
    "scrolled": true
   },
   "outputs": [],
   "source": [
    "# df.sample(.5).show(5)"
   ]
  },
  {
   "cell_type": "code",
   "execution_count": 7,
   "metadata": {
    "hidden": true
   },
   "outputs": [],
   "source": [
    "# spark.sql('select count(1) from datasus.sia_pa_rs').show()"
   ]
  },
  {
   "cell_type": "code",
   "execution_count": null,
   "metadata": {
    "hidden": true
   },
   "outputs": [],
   "source": [
    "# df.count()"
   ]
  },
  {
   "cell_type": "code",
   "execution_count": null,
   "metadata": {
    "hidden": true
   },
   "outputs": [],
   "source": [
    "df.select(\"*\").toPandas()"
   ]
  },
  {
   "cell_type": "code",
   "execution_count": null,
   "metadata": {
    "hidden": true
   },
   "outputs": [],
   "source": [
    "df.select('*').collect()"
   ]
  },
  {
   "cell_type": "code",
   "execution_count": null,
   "metadata": {
    "hidden": true,
    "scrolled": true
   },
   "outputs": [],
   "source": [
    "# df.show(1)\n",
    "# df.take(1)\n"
   ]
  },
  {
   "cell_type": "code",
   "execution_count": 6,
   "metadata": {
    "hidden": true
   },
   "outputs": [],
   "source": [
    "df.createOrReplaceTempView(\"tableA\")"
   ]
  },
  {
   "cell_type": "code",
   "execution_count": 7,
   "metadata": {
    "hidden": true
   },
   "outputs": [
    {
     "name": "stdout",
     "output_type": "stream",
     "text": [
      "+-------------+\n",
      "|min(PA_IDADE)|\n",
      "+-------------+\n",
      "|            0|\n",
      "+-------------+\n",
      "\n"
     ]
    }
   ],
   "source": [
    "teenagerDF = spark.sql(\"SELECT min(PA_IDADE) FROM tableA WHERE PA_CIDPRI = 'H57'\")\n",
    "teenagerDF.show()"
   ]
  },
  {
   "cell_type": "code",
   "execution_count": 8,
   "metadata": {
    "hidden": true
   },
   "outputs": [
    {
     "name": "stdout",
     "output_type": "stream",
     "text": [
      "+-------------+\n",
      "|max(PA_IDADE)|\n",
      "+-------------+\n",
      "|           76|\n",
      "+-------------+\n",
      "\n"
     ]
    }
   ],
   "source": [
    "teenagerDF = spark.sql(\"SELECT max(PA_IDADE) FROM tableA WHERE PA_CIDPRI = 'H57'\")\n",
    "teenagerDF.show()"
   ]
  },
  {
   "cell_type": "code",
   "execution_count": null,
   "metadata": {
    "hidden": true
   },
   "outputs": [],
   "source": [
    "# spark.sql(\"SELECT count(*) from tableA\").show()"
   ]
  },
  {
   "cell_type": "markdown",
   "metadata": {},
   "source": [
    "## Mode 2"
   ]
  },
  {
   "cell_type": "code",
   "execution_count": 2,
   "metadata": {},
   "outputs": [
    {
     "data": {
      "text/plain": [
       "<pyspark.conf.SparkConf at 0x7ff3a7064898>"
      ]
     },
     "execution_count": 2,
     "metadata": {},
     "output_type": "execute_result"
    }
   ],
   "source": [
    "# sparkClassPath = os.getenv('SPARK_CLASSPATH', '/opt/spark/jars/postgresql-42.2.22.jar')\n",
    "\n",
    "# # Populate configuration\n",
    "# conf = SparkConf()\n",
    "# conf.setAppName('DataSUSCtx')\n",
    "# conf.set('spark.jars', 'file:%s' % sparkClassPath)\n",
    "# conf.set('spark.executor.extraClassPath', sparkClassPath)\n",
    "# conf.set('spark.driver.extraClassPath', sparkClassPath)\n",
    "\n",
    "# conf.set('spark.driver.cores', '1')\n",
    "# conf.set('spark.executor.cores', '1')\n",
    "# conf.set('spark.driver.memory', '4G')\n",
    "# conf.set('spark.executor.memory', '4G')\n",
    "\n",
    "# conf.set('spark.master', 'spark://wilian-ubuntu:7077')"
   ]
  },
  {
   "cell_type": "code",
   "execution_count": 3,
   "metadata": {},
   "outputs": [],
   "source": [
    "# spark = SparkSession.builder.getOrCreate()"
   ]
  },
  {
   "cell_type": "code",
   "execution_count": 3,
   "metadata": {},
   "outputs": [],
   "source": [
    "# sc = SparkContext(conf=conf)\n",
    "\n",
    "# sqlContext = SQLContext(sc)"
   ]
  },
  {
   "cell_type": "code",
   "execution_count": 2,
   "metadata": {},
   "outputs": [],
   "source": [
    "spark = SparkSession \\\n",
    "    .builder \\\n",
    "    .appName(\"DataSUS\") \\\n",
    "    .config(\"spark.jars\", \"/opt/spark/jars/postgresql-42.2.22.jar\") \\\n",
    "    .master('spark://wilian-ubuntu:7077') \\\n",
    "    .getOrCreate()"
   ]
  },
  {
   "cell_type": "code",
   "execution_count": 5,
   "metadata": {},
   "outputs": [],
   "source": [
    "sc = spark.sparkContext\n",
    "\n",
    "sqlContext=SQLContext(sc)"
   ]
  },
  {
   "cell_type": "code",
   "execution_count": 6,
   "metadata": {},
   "outputs": [
    {
     "data": {
      "text/plain": [
       "DataFrame[database: string, tableName: string, isTemporary: boolean]"
      ]
     },
     "execution_count": 6,
     "metadata": {},
     "output_type": "execute_result"
    }
   ],
   "source": [
    "spark.sql(\"SHOW TABLES\")"
   ]
  },
  {
   "cell_type": "code",
   "execution_count": 9,
   "metadata": {},
   "outputs": [],
   "source": [
    "url = 'postgresql://127.0.0.1:5432/datasus'\n",
    "properties = {'user':'postgres', 'password':'postgres', 'driver':'org.postgresql.Driver'}"
   ]
  },
  {
   "cell_type": "code",
   "execution_count": 10,
   "metadata": {},
   "outputs": [],
   "source": [
    "df = DataFrameReader(sqlContext).jdbc(url='jdbc:%s' % url, table='sia_pa_rs', properties=properties)"
   ]
  },
  {
   "cell_type": "code",
   "execution_count": 11,
   "metadata": {
    "scrolled": true
   },
   "outputs": [
    {
     "name": "stdout",
     "output_type": "stream",
     "text": [
      "root\n",
      " |-- index: long (nullable = true)\n",
      " |-- pa_gestao: long (nullable = true)\n",
      " |-- pa_condic: string (nullable = true)\n",
      " |-- pa_ufmun: long (nullable = true)\n",
      " |-- pa_regct: long (nullable = true)\n",
      " |-- pa_incout: long (nullable = true)\n",
      " |-- pa_incurg: long (nullable = true)\n",
      " |-- pa_tpups: long (nullable = true)\n",
      " |-- pa_tippre: long (nullable = true)\n",
      " |-- pa_mn_ind: string (nullable = true)\n",
      " |-- pa_cnpjcpf: long (nullable = true)\n",
      " |-- pa_cnpjmnt: long (nullable = true)\n",
      " |-- pa_cnpj_cc: long (nullable = true)\n",
      " |-- pa_mvm: long (nullable = true)\n",
      " |-- pa_cmp: long (nullable = true)\n",
      " |-- pa_proc_id: long (nullable = true)\n",
      " |-- pa_tpfin: long (nullable = true)\n",
      " |-- pa_subfin: long (nullable = true)\n",
      " |-- pa_nivcpl: long (nullable = true)\n",
      " |-- pa_docorig: string (nullable = true)\n",
      " |-- pa_autoriz: string (nullable = true)\n",
      " |-- pa_cnsmed: long (nullable = true)\n",
      " |-- pa_cbocod: string (nullable = true)\n",
      " |-- pa_motsai: long (nullable = true)\n",
      " |-- pa_obito: long (nullable = true)\n",
      " |-- pa_encerr: long (nullable = true)\n",
      " |-- pa_perman: long (nullable = true)\n",
      " |-- pa_alta: long (nullable = true)\n",
      " |-- pa_transf: long (nullable = true)\n",
      " |-- pa_cidpri: string (nullable = true)\n",
      " |-- pa_cidsec: string (nullable = true)\n",
      " |-- pa_cidcas: string (nullable = true)\n",
      " |-- pa_catend: long (nullable = true)\n",
      " |-- pa_idade: long (nullable = true)\n",
      " |-- idademin: double (nullable = true)\n",
      " |-- idademax: double (nullable = true)\n",
      " |-- pa_flidade: long (nullable = true)\n",
      " |-- pa_sexo: string (nullable = true)\n",
      " |-- pa_racacor: long (nullable = true)\n",
      " |-- pa_munpcn: long (nullable = true)\n",
      " |-- pa_qtdpro: long (nullable = true)\n",
      " |-- pa_qtdapr: long (nullable = true)\n",
      " |-- pa_valpro: double (nullable = true)\n",
      " |-- pa_valapr: double (nullable = true)\n",
      " |-- pa_ufdif: long (nullable = true)\n",
      " |-- pa_mndif: long (nullable = true)\n",
      " |-- pa_dif_val: double (nullable = true)\n",
      " |-- nu_vpa_tot: double (nullable = true)\n",
      " |-- nu_pa_tot: double (nullable = true)\n",
      " |-- pa_indica: long (nullable = true)\n",
      " |-- pa_codoco: long (nullable = true)\n",
      " |-- pa_flqt: string (nullable = true)\n",
      " |-- pa_fler: long (nullable = true)\n",
      " |-- pa_etnia: string (nullable = true)\n",
      " |-- pa_vl_cf: double (nullable = true)\n",
      " |-- pa_vl_cl: double (nullable = true)\n",
      " |-- pa_vl_inc: double (nullable = true)\n",
      " |-- pa_srv_c: double (nullable = true)\n",
      " |-- pa_ine: double (nullable = true)\n",
      " |-- pa_nat_jur: long (nullable = true)\n",
      "\n"
     ]
    }
   ],
   "source": [
    "df.printSchema()"
   ]
  },
  {
   "cell_type": "code",
   "execution_count": 12,
   "metadata": {
    "scrolled": true
   },
   "outputs": [
    {
     "data": {
      "text/plain": [
       "['index',\n",
       " 'pa_gestao',\n",
       " 'pa_condic',\n",
       " 'pa_ufmun',\n",
       " 'pa_regct',\n",
       " 'pa_incout',\n",
       " 'pa_incurg',\n",
       " 'pa_tpups',\n",
       " 'pa_tippre',\n",
       " 'pa_mn_ind',\n",
       " 'pa_cnpjcpf',\n",
       " 'pa_cnpjmnt',\n",
       " 'pa_cnpj_cc',\n",
       " 'pa_mvm',\n",
       " 'pa_cmp',\n",
       " 'pa_proc_id',\n",
       " 'pa_tpfin',\n",
       " 'pa_subfin',\n",
       " 'pa_nivcpl',\n",
       " 'pa_docorig',\n",
       " 'pa_autoriz',\n",
       " 'pa_cnsmed',\n",
       " 'pa_cbocod',\n",
       " 'pa_motsai',\n",
       " 'pa_obito',\n",
       " 'pa_encerr',\n",
       " 'pa_perman',\n",
       " 'pa_alta',\n",
       " 'pa_transf',\n",
       " 'pa_cidpri',\n",
       " 'pa_cidsec',\n",
       " 'pa_cidcas',\n",
       " 'pa_catend',\n",
       " 'pa_idade',\n",
       " 'idademin',\n",
       " 'idademax',\n",
       " 'pa_flidade',\n",
       " 'pa_sexo',\n",
       " 'pa_racacor',\n",
       " 'pa_munpcn',\n",
       " 'pa_qtdpro',\n",
       " 'pa_qtdapr',\n",
       " 'pa_valpro',\n",
       " 'pa_valapr',\n",
       " 'pa_ufdif',\n",
       " 'pa_mndif',\n",
       " 'pa_dif_val',\n",
       " 'nu_vpa_tot',\n",
       " 'nu_pa_tot',\n",
       " 'pa_indica',\n",
       " 'pa_codoco',\n",
       " 'pa_flqt',\n",
       " 'pa_fler',\n",
       " 'pa_etnia',\n",
       " 'pa_vl_cf',\n",
       " 'pa_vl_cl',\n",
       " 'pa_vl_inc',\n",
       " 'pa_srv_c',\n",
       " 'pa_ine',\n",
       " 'pa_nat_jur']"
      ]
     },
     "execution_count": 12,
     "metadata": {},
     "output_type": "execute_result"
    }
   ],
   "source": [
    "df.columns"
   ]
  },
  {
   "cell_type": "code",
   "execution_count": 9,
   "metadata": {},
   "outputs": [
    {
     "name": "stdout",
     "output_type": "stream",
     "text": [
      "<pyspark.sql.session.SparkSession object at 0x7fe511a90860>\n"
     ]
    }
   ],
   "source": [
    "print(spark)"
   ]
  },
  {
   "cell_type": "code",
   "execution_count": 10,
   "metadata": {},
   "outputs": [
    {
     "name": "stdout",
     "output_type": "stream",
     "text": [
      "<SparkContext master=local[*] appName=DataSUSCtx>\n",
      "<pyspark.sql.context.SQLContext object at 0x7fe52af3aef0>\n"
     ]
    }
   ],
   "source": [
    "print(sc)\n",
    "print(sqlContext)"
   ]
  },
  {
   "cell_type": "code",
   "execution_count": 11,
   "metadata": {},
   "outputs": [],
   "source": [
    "# Resilient Distributed Dataframe (RDD)"
   ]
  },
  {
   "cell_type": "code",
   "execution_count": 12,
   "metadata": {},
   "outputs": [
    {
     "data": {
      "text/plain": [
       "MapPartitionsRDD[4] at javaToPython at NativeMethodAccessorImpl.java:0"
      ]
     },
     "execution_count": 12,
     "metadata": {},
     "output_type": "execute_result"
    }
   ],
   "source": [
    "df.rdd"
   ]
  },
  {
   "cell_type": "code",
   "execution_count": 13,
   "metadata": {},
   "outputs": [
    {
     "data": {
      "text/plain": [
       "1"
      ]
     },
     "execution_count": 13,
     "metadata": {},
     "output_type": "execute_result"
    }
   ],
   "source": [
    "df.rdd.getNumPartitions()"
   ]
  },
  {
   "cell_type": "code",
   "execution_count": 14,
   "metadata": {},
   "outputs": [],
   "source": [
    "df = df.repartition(4)"
   ]
  },
  {
   "cell_type": "code",
   "execution_count": 15,
   "metadata": {},
   "outputs": [
    {
     "data": {
      "text/plain": [
       "4"
      ]
     },
     "execution_count": 15,
     "metadata": {},
     "output_type": "execute_result"
    }
   ],
   "source": [
    "df.rdd.getNumPartitions()"
   ]
  },
  {
   "cell_type": "code",
   "execution_count": 12,
   "metadata": {},
   "outputs": [],
   "source": [
    "# df.collect()\n",
    "\n",
    "# Py4JJavaError: An error occurred while calling o56.collectToPython.\n",
    "# org.apache.spark.SparkException: Job aborted due to stage failure: Task 0 in stage 0.0 failed 1 times, most recent failure: Lost task 0.0 in stage 0.0 (TID 0) (wilian-ubuntu executor driver): java.lang.OutOfMemoryError: Java heap space\n",
    "# Driver stacktrace:"
   ]
  },
  {
   "cell_type": "code",
   "execution_count": 13,
   "metadata": {},
   "outputs": [
    {
     "name": "stdout",
     "output_type": "stream",
     "text": [
      "+-------+---------+---------+--------+--------+---------+---------+--------+---------+---------+--------------+----------+----------+------+------+----------+--------+---------+---------+----------+-------------+---------------+---------+---------+--------+---------+---------+-------+---------+---------+---------+---------+---------+--------+--------+--------+----------+-------+----------+---------+---------+---------+---------+---------+--------+--------+----------+----------+---------+---------+---------+-------+-------+--------+--------+--------+---------+--------+------+----------+\n",
      "|  index|pa_gestao|pa_condic|pa_ufmun|pa_regct|pa_incout|pa_incurg|pa_tpups|pa_tippre|pa_mn_ind|    pa_cnpjcpf|pa_cnpjmnt|pa_cnpj_cc|pa_mvm|pa_cmp|pa_proc_id|pa_tpfin|pa_subfin|pa_nivcpl|pa_docorig|   pa_autoriz|      pa_cnsmed|pa_cbocod|pa_motsai|pa_obito|pa_encerr|pa_perman|pa_alta|pa_transf|pa_cidpri|pa_cidsec|pa_cidcas|pa_catend|pa_idade|idademin|idademax|pa_flidade|pa_sexo|pa_racacor|pa_munpcn|pa_qtdpro|pa_qtdapr|pa_valpro|pa_valapr|pa_ufdif|pa_mndif|pa_dif_val|nu_vpa_tot|nu_pa_tot|pa_indica|pa_codoco|pa_flqt|pa_fler|pa_etnia|pa_vl_cf|pa_vl_cl|pa_vl_inc|pa_srv_c|pa_ine|pa_nat_jur|\n",
      "+-------+---------+---------+--------+--------+---------+---------+--------+---------+---------+--------------+----------+----------+------+------+----------+--------+---------+---------+----------+-------------+---------------+---------+---------+--------+---------+---------+-------+---------+---------+---------+---------+---------+--------+--------+--------+----------+-------+----------+---------+---------+---------+---------+---------+--------+--------+----------+----------+---------+---------+---------+-------+-------+--------+--------+--------+---------+--------+------+----------+\n",
      "|2250802|   430000|       EP|  430370|       0|        0|        0|       5|        0|        I|96419775000175|         0|         0|202101|202101| 301010072|       6|        0|        2|         I|0000000000000|980016005082065|   225125|        0|       0|        0|        0|      0|        0|      W17|     0000|     0000|        2|       2|     0.0|   130.0|         1|      F|         1|   430370|        1|        1|     10.0|     10.0|       0|       0|       0.0|       0.0|     10.0|        5|        1|      K|      0|    null|     0.0|     0.0|      0.0|    null|  null|      3999|\n",
      "|2250802|   430000|       EP|  430370|       0|        0|        0|       5|        0|        I|96419775000175|         0|         0|202101|202101| 301010048|       6|        0|        2|         I|0000000000000|708902739482118|   223505|        0|       0|        0|        0|      0|        0|     0000|     0000|     0000|        1|      21|     0.0|   130.0|         1|      F|         1|   430370|        1|        1|      6.3|      6.3|       0|       0|       0.0|       0.0|      6.3|        5|        1|      K|      0|    null|     0.0|     0.0|      0.0|    null|  null|      3999|\n",
      "|2250802|   430000|       EP|  430370|       0|        0|        0|       5|        0|        I|96419775000175|         0|         0|202101|202101| 301100012|       6|        0|        2|         I|0000000000000|708902739482118|   223505|        0|       0|        0|        0|      0|        0|     0000|     0000|     0000|        1|      44|     0.0|   130.0|         1|      F|         1|   430370|        1|        1|     0.63|     0.63|       0|       0|       0.0|       0.0|     0.63|        5|        1|      K|      0|    null|     0.0|     0.0|      0.0|    null|  null|      3999|\n",
      "|2250802|   430000|       EP|  430370|       0|        0|        0|       5|        0|        I|96419775000175|         0|         0|202101|202101| 301100012|       6|        0|        2|         I|0000000000000|980016280789336|   223505|        0|       0|        0|        0|      0|        0|     L989|     0000|     0000|        1|      60|     0.0|   130.0|         1|      F|         1|   430370|        1|        1|     0.63|     0.63|       0|       0|       0.0|       0.0|     0.63|        5|        1|      K|      0|    null|     0.0|     0.0|      0.0|    null|  null|      3999|\n",
      "|2250802|   430000|       EP|  430370|       0|        0|        0|       5|        0|        I|96419775000175|         0|         0|202101|202101| 301010072|       6|        0|        2|         I|0000000000000|980016005082065|   225125|        0|       0|        0|        0|      0|        0|     N760|     0000|     0000|        1|      32|     0.0|   130.0|         1|      F|         1|   430370|        1|        1|     10.0|     10.0|       0|       0|       0.0|       0.0|     10.0|        5|        1|      K|      0|    null|     0.0|     0.0|      0.0|    null|  null|      3999|\n",
      "|2250802|   430000|       EP|  430370|       0|        0|        0|       5|        0|        I|96419775000175|         0|         0|202101|202101| 301060029|       6|        0|        2|         I|0000000000000|980016005082065|   225125|        0|       0|        0|        0|      0|        0|     J069|     0000|     0000|        2|      53|     0.0|   130.0|         1|      M|         1|   430370|        1|        1|    12.47|    12.47|       0|       0|       0.0|       0.0|    12.47|        5|        1|      K|      0|    null|     0.0|     0.0|      0.0|    null|  null|      3999|\n",
      "|2250802|   430000|       EP|  430370|       0|        0|        0|       5|        0|        I|96419775000175|         0|         0|202101|202101| 301060029|       6|        0|        2|         I|0000000000000|980016005082065|   225125|        0|       0|        0|        0|      0|        0|     H190|     0000|     0000|        1|      65|     0.0|   130.0|         1|      F|         1|   430370|        1|        1|    12.47|    12.47|       0|       0|       0.0|       0.0|    12.47|        5|        1|      K|      0|    null|     0.0|     0.0|      0.0|    null|  null|      3999|\n",
      "|2250802|   430000|       EP|  430370|       0|        0|        0|       5|        0|        I|96419775000175|         0|         0|202101|202101| 301010072|       6|        0|        2|         I|0000000000000|980016005082065|   225125|        0|       0|        0|        0|      0|        0|      G43|     0000|     0000|        1|      17|     0.0|   130.0|         1|      F|         1|   430370|        1|        1|     10.0|     10.0|       0|       0|       0.0|       0.0|     10.0|        5|        1|      K|      0|    null|     0.0|     0.0|      0.0|    null|  null|      3999|\n",
      "|2250802|   430000|       EP|  430370|       0|        0|        0|       5|        0|        I|96419775000175|         0|         0|202101|202101| 301010072|       6|        0|        2|         I|0000000000000|980016005082065|   225125|        0|       0|        0|        0|      0|        0|     J069|     0000|     0000|        1|       3|     0.0|   130.0|         1|      F|         1|   430370|        1|        1|     10.0|     10.0|       0|       0|       0.0|       0.0|     10.0|        5|        1|      K|      0|    null|     0.0|     0.0|      0.0|    null|  null|      3999|\n",
      "|2250802|   430000|       EP|  430370|       0|        0|        0|       5|        0|        I|96419775000175|         0|         0|202101|202101| 302050027|       6|        0|        2|         I|0000000000000|980016277149046|   223605|        0|       0|        0|        0|      0|        0|     M544|     0000|     0000|        1|      74|     0.0|   130.0|         1|      F|         1|   430370|        1|        1|     4.67|     4.67|       0|       0|       0.0|       0.0|     4.67|        5|        1|      K|      0|    null|     0.0|     0.0|      0.0|    null|  null|      3999|\n",
      "|2250802|   430000|       EP|  430370|       0|        0|        0|       5|        0|        I|96419775000175|         0|         0|202101|202101| 302050027|       6|        0|        2|         I|0000000000000|980016277149046|   223605|        0|       0|        0|        0|      0|        0|     M544|     0000|     0000|        1|      74|     0.0|   130.0|         1|      F|         1|   430370|        1|        1|     4.67|     4.67|       0|       0|       0.0|       0.0|     4.67|        5|        1|      K|      0|    null|     0.0|     0.0|      0.0|    null|  null|      3999|\n",
      "|2250802|   430000|       EP|  430370|       0|        0|        0|       5|        0|        I|96419775000175|         0|         0|202101|202101| 301010072|       6|        0|        2|         I|0000000000000|980016005082065|   225125|        0|       0|        0|        0|      0|        0|     Z008|     0000|     0000|        1|      18|     0.0|   130.0|         1|      F|         1|   430370|        1|        1|     10.0|     10.0|       0|       0|       0.0|       0.0|     10.0|        5|        1|      K|      0|    null|     0.0|     0.0|      0.0|    null|  null|      3999|\n",
      "|2250802|   430000|       EP|  430370|       0|        0|        0|       5|        0|        I|96419775000175|         0|         0|202101|202101| 301010048|       6|        0|        2|         I|0000000000000|980016277149046|   223605|        0|       0|        0|        0|      0|        0|     M751|     0000|     0000|        1|      69|     0.0|   130.0|         1|      F|         1|   430370|        1|        1|      6.3|      6.3|       0|       0|       0.0|       0.0|      6.3|        5|        1|      K|      0|    null|     0.0|     0.0|      0.0|    null|  null|      3999|\n",
      "|2250802|   430000|       EP|  430370|       0|        0|        0|       5|        0|        I|96419775000175|         0|         0|202101|202101| 301010048|       6|        0|        2|         I|0000000000000|708902739482118|   223505|        0|       0|        0|        0|      0|        0|     Z008|     0000|     0000|        1|      42|     0.0|   130.0|         1|      F|         1|   430370|        1|        1|      6.3|      6.3|       0|       0|       0.0|       0.0|      6.3|        5|        1|      K|      0|    null|     0.0|     0.0|      0.0|    null|  null|      3999|\n",
      "|2250802|   430000|       EP|  430370|       0|        0|        0|       5|        0|        I|96419775000175|         0|         0|202101|202101| 301100012|       6|        0|        2|         I|0000000000000|708902739482118|   223505|        0|       0|        0|        0|      0|        0|     R104|     0000|     0000|        2|      69|     0.0|   130.0|         1|      F|         1|   430370|        2|        2|     1.26|     1.26|       0|       0|       0.0|       0.0|     0.63|        5|        1|      K|      0|    null|     0.0|     0.0|      0.0|    null|  null|      3999|\n",
      "|2250802|   430000|       EP|  430370|       0|        0|        0|       5|        0|        I|96419775000175|         0|         0|202101|202101| 301060029|       6|        0|        2|         I|0000000000000|980016005082065|   225125|        0|       0|        0|        0|      0|        0|     M544|     0000|     0000|        1|      74|     0.0|   130.0|         1|      F|         1|   430370|        1|        0|    12.47|      0.0|       0|       0|       0.0|       0.0|    12.47|        0|        5|      O|      0|    null|     0.0|     0.0|      0.0|    null|  null|      3999|\n",
      "|2250802|   430000|       EP|  430370|       0|        0|        0|       5|        0|        I|96419775000175|         0|         0|202101|202101| 301010048|       6|        0|        2|         I|0000000000000|980016280789336|   223505|        0|       0|        0|        0|      0|        0|     R529|     0000|     0000|        1|      68|     0.0|   130.0|         1|      F|         1|   430370|        1|        1|      6.3|      6.3|       0|       0|       0.0|       0.0|      6.3|        5|        1|      K|      0|    null|     0.0|     0.0|      0.0|    null|  null|      3999|\n",
      "|2250802|   430000|       EP|  430370|       0|        0|        0|       5|        0|        I|96419775000175|         0|         0|202101|202101| 302050027|       6|        0|        2|         I|0000000000000|980016277149046|   223605|        0|       0|        0|        0|      0|        0|     M544|     0000|     0000|        1|      45|     0.0|   130.0|         1|      F|         1|   430370|        1|        1|     4.67|     4.67|       0|       0|       0.0|       0.0|     4.67|        5|        1|      K|      0|    null|     0.0|     0.0|      0.0|    null|  null|      3999|\n",
      "|2250802|   430000|       EP|  430370|       0|        0|        0|       5|        0|        I|96419775000175|         0|         0|202101|202101| 301100012|       6|        0|        2|         I|0000000000000|980016280789336|   223505|        0|       0|        0|        0|      0|        0|     S528|     0000|     0000|        2|      34|     0.0|   130.0|         1|      F|         1|   430370|        1|        1|     0.63|     0.63|       0|       0|       0.0|       0.0|     0.63|        5|        1|      K|      0|    null|     0.0|     0.0|      0.0|    null|  null|      3999|\n",
      "|2250802|   430000|       EP|  430370|       0|        0|        0|       5|        0|        I|96419775000175|         0|         0|202101|202101| 301060029|       6|        0|        2|         I|0000000000000|700003228382804|   225125|        0|       0|        0|        0|      0|        0|     R030|     0000|     0000|        2|      43|     0.0|   130.0|         1|      F|         1|   430370|        1|        1|    12.47|    12.47|       0|       0|       0.0|       0.0|    12.47|        5|        1|      K|      0|    null|     0.0|     0.0|      0.0|    null|  null|      3999|\n",
      "+-------+---------+---------+--------+--------+---------+---------+--------+---------+---------+--------------+----------+----------+------+------+----------+--------+---------+---------+----------+-------------+---------------+---------+---------+--------+---------+---------+-------+---------+---------+---------+---------+---------+--------+--------+--------+----------+-------+----------+---------+---------+---------+---------+---------+--------+--------+----------+----------+---------+---------+---------+-------+-------+--------+--------+--------+---------+--------+------+----------+\n",
      "only showing top 20 rows\n",
      "\n"
     ]
    }
   ],
   "source": [
    "df.where('index == 2250802').show()"
   ]
  },
  {
   "cell_type": "code",
   "execution_count": 14,
   "metadata": {},
   "outputs": [
    {
     "data": {
      "text/plain": [
       "132"
      ]
     },
     "execution_count": 14,
     "metadata": {},
     "output_type": "execute_result"
    }
   ],
   "source": [
    "df.select('PA_IDADE').distinct().count()"
   ]
  },
  {
   "cell_type": "code",
   "execution_count": 20,
   "metadata": {},
   "outputs": [],
   "source": [
    "# df.limit(10).toPandas()"
   ]
  },
  {
   "cell_type": "code",
   "execution_count": 16,
   "metadata": {},
   "outputs": [
    {
     "data": {
      "text/plain": [
       "DataFrame[pa_gestao: bigint, pa_ufmun: bigint, pa_cbocod: string, pa_cidpri: string, pa_cidsec: string]"
      ]
     },
     "metadata": {},
     "output_type": "display_data"
    }
   ],
   "source": [
    "# df.select(\n",
    "#     'pa_gestao',\n",
    "#     'pa_ufmun',\n",
    "#     'pa_cbocod',\n",
    "#     'pa_cidpri',\n",
    "#     'pa_cidsec',\n",
    "# ).limit(10).toPandas()"
   ]
  },
  {
   "cell_type": "code",
   "execution_count": 14,
   "metadata": {},
   "outputs": [],
   "source": [
    "# df.take(1)"
   ]
  },
  {
   "cell_type": "code",
   "execution_count": null,
   "metadata": {},
   "outputs": [],
   "source": []
  },
  {
   "cell_type": "code",
   "execution_count": 8,
   "metadata": {},
   "outputs": [],
   "source": [
    "df.createOrReplaceTempView(\"tableA\")"
   ]
  },
  {
   "cell_type": "code",
   "execution_count": 17,
   "metadata": {},
   "outputs": [
    {
     "name": "stdout",
     "output_type": "stream",
     "text": [
      "+-------------+\n",
      "|min(PA_IDADE)|\n",
      "+-------------+\n",
      "|            0|\n",
      "+-------------+\n",
      "\n"
     ]
    }
   ],
   "source": [
    "teenagerDF = spark.sql(\"SELECT min(PA_IDADE) FROM tableA WHERE PA_CIDPRI = 'H57'\")\n",
    "teenagerDF.show()"
   ]
  },
  {
   "cell_type": "code",
   "execution_count": null,
   "metadata": {},
   "outputs": [],
   "source": []
  },
  {
   "cell_type": "code",
   "execution_count": 9,
   "metadata": {
    "scrolled": true
   },
   "outputs": [],
   "source": [
    "# df.show(1, vertical=True)"
   ]
  },
  {
   "cell_type": "code",
   "execution_count": 12,
   "metadata": {},
   "outputs": [
    {
     "name": "stdout",
     "output_type": "stream",
     "text": [
      "+-------+-------------------+---------+\n",
      "|summary|          PA_CIDPRI|PA_CIDSEC|\n",
      "+-------+-------------------+---------+\n",
      "|  count|           40722508| 40722508|\n",
      "|   mean|0.04845269043950959|      0.0|\n",
      "| stddev|  7.336797206585033|      0.0|\n",
      "|    min|               0000|        0|\n",
      "|    max|               Z999|     Z940|\n",
      "+-------+-------------------+---------+\n",
      "\n"
     ]
    }
   ],
   "source": [
    "%%time\n",
    "df.select(\"PA_CIDPRI\", \"PA_CIDSEC\").describe().show()"
   ]
  },
  {
   "cell_type": "code",
   "execution_count": 14,
   "metadata": {},
   "outputs": [
    {
     "name": "stdout",
     "output_type": "stream",
     "text": [
      "+---------+---------+\n",
      "|PA_CIDPRI|PA_CIDSEC|\n",
      "+---------+---------+\n",
      "|     0000|     0000|\n",
      "|     0000|     0000|\n",
      "|     0000|     0000|\n",
      "|     0000|     0000|\n",
      "|     0000|     0000|\n",
      "|     0000|     0000|\n",
      "|     0000|     0000|\n",
      "|     0000|     0000|\n",
      "|     0000|     0000|\n",
      "|     0000|     0000|\n",
      "|     0000|     0000|\n",
      "|     0000|     0000|\n",
      "|     0000|     0000|\n",
      "|     0000|     0000|\n",
      "|     0000|     0000|\n",
      "|     0000|     0000|\n",
      "|     0000|     0000|\n",
      "|     0000|     0000|\n",
      "|     0000|     0000|\n",
      "|     0000|     0000|\n",
      "+---------+---------+\n",
      "only showing top 20 rows\n",
      "\n"
     ]
    }
   ],
   "source": [
    "df.select(\"PA_CIDPRI\", \"PA_CIDSEC\").show()"
   ]
  },
  {
   "cell_type": "code",
   "execution_count": 15,
   "metadata": {
    "scrolled": true
   },
   "outputs": [
    {
     "name": "stdout",
     "output_type": "stream",
     "text": [
      "+---------+-----+\n",
      "|PA_CIDPRI|count|\n",
      "+---------+-----+\n",
      "|     Q201|    1|\n",
      "|     P282|    1|\n",
      "|     Q719|    1|\n",
      "|     Y548|    1|\n",
      "|     Z739|    1|\n",
      "|     L505|    1|\n",
      "|      T36|    1|\n",
      "|     N140|    1|\n",
      "|     G951|    1|\n",
      "|      R71|    1|\n",
      "|      B05|    1|\n",
      "|     P201|    1|\n",
      "|     H311|    1|\n",
      "|     W318|    1|\n",
      "|     O046|    1|\n",
      "|      O12|    1|\n",
      "|     B403|    1|\n",
      "|     C922|    1|\n",
      "|     T855|    1|\n",
      "|     L658|    1|\n",
      "+---------+-----+\n",
      "only showing top 20 rows\n",
      "\n"
     ]
    }
   ],
   "source": [
    "df.groupby('PA_CIDPRI').count().sort('count').show()"
   ]
  },
  {
   "cell_type": "code",
   "execution_count": 8,
   "metadata": {},
   "outputs": [
    {
     "name": "stdout",
     "output_type": "stream",
     "text": [
      "+---------+-----+\n",
      "|PA_CIDSEC|count|\n",
      "+---------+-----+\n",
      "|     H904|  663|\n",
      "|     C718|    3|\n",
      "|     C491|    2|\n",
      "|      Z21|    2|\n",
      "|     H906| 1012|\n",
      "|     C676|    2|\n",
      "|     G710|   26|\n",
      "|      E83|    2|\n",
      "|     N110|    4|\n",
      "|     M179|    1|\n",
      "|      C22|   16|\n",
      "|     E142|   12|\n",
      "|     I071|    1|\n",
      "|     C186|   15|\n",
      "|      C77|  211|\n",
      "|     C159|   26|\n",
      "|     N039|   27|\n",
      "|     C248|    2|\n",
      "|     C509|  673|\n",
      "|     N189|  357|\n",
      "+---------+-----+\n",
      "only showing top 20 rows\n",
      "\n"
     ]
    }
   ],
   "source": [
    "df.groupby('PA_CIDSEC').count().show()"
   ]
  },
  {
   "cell_type": "code",
   "execution_count": 10,
   "metadata": {},
   "outputs": [
    {
     "data": {
      "text/plain": [
       "40722508"
      ]
     },
     "execution_count": 10,
     "metadata": {},
     "output_type": "execute_result"
    }
   ],
   "source": [
    "df.count()"
   ]
  },
  {
   "cell_type": "code",
   "execution_count": 13,
   "metadata": {},
   "outputs": [
    {
     "name": "stdout",
     "output_type": "stream",
     "text": [
      "+-----------------+\n",
      "|(PA_CIDPRI = H57)|\n",
      "+-----------------+\n",
      "|            false|\n",
      "|            false|\n",
      "|            false|\n",
      "|            false|\n",
      "|            false|\n",
      "|            false|\n",
      "|            false|\n",
      "|            false|\n",
      "|            false|\n",
      "|            false|\n",
      "|            false|\n",
      "|            false|\n",
      "|            false|\n",
      "|            false|\n",
      "|            false|\n",
      "|            false|\n",
      "|            false|\n",
      "|            false|\n",
      "|            false|\n",
      "|            false|\n",
      "+-----------------+\n",
      "only showing top 20 rows\n",
      "\n"
     ]
    }
   ],
   "source": [
    "from pyspark.sql.functions import expr\n",
    "\n",
    "# df.selectExpr('add_one(v1)').show()\n",
    "df.select(expr('PA_CIDPRI') == \"H57\").show()"
   ]
  },
  {
   "cell_type": "code",
   "execution_count": 8,
   "metadata": {},
   "outputs": [
    {
     "name": "stdout",
     "output_type": "stream",
     "text": [
      "+-------+---------+---------+--------+--------+---------+---------+--------+---------+---------+--------------+--------------+----------+------+------+----------+--------+---------+---------+----------+-------------+---------------+---------+---------+--------+---------+---------+-------+---------+---------+---------+---------+---------+--------+--------+--------+----------+-------+----------+---------+---------+---------+---------+---------+--------+--------+----------+----------+---------+---------+---------+-------+-------+--------+--------+--------+---------+--------+------+----------+\n",
      "|  index|pa_gestao|pa_condic|pa_ufmun|pa_regct|pa_incout|pa_incurg|pa_tpups|pa_tippre|pa_mn_ind|    pa_cnpjcpf|    pa_cnpjmnt|pa_cnpj_cc|pa_mvm|pa_cmp|pa_proc_id|pa_tpfin|pa_subfin|pa_nivcpl|pa_docorig|   pa_autoriz|      pa_cnsmed|pa_cbocod|pa_motsai|pa_obito|pa_encerr|pa_perman|pa_alta|pa_transf|pa_cidpri|pa_cidsec|pa_cidcas|pa_catend|pa_idade|idademin|idademax|pa_flidade|pa_sexo|pa_racacor|pa_munpcn|pa_qtdpro|pa_qtdapr|pa_valpro|pa_valapr|pa_ufdif|pa_mndif|pa_dif_val|nu_vpa_tot|nu_pa_tot|pa_indica|pa_codoco|pa_flqt|pa_fler|pa_etnia|pa_vl_cf|pa_vl_cl|pa_vl_inc|pa_srv_c|pa_ine|pa_nat_jur|\n",
      "+-------+---------+---------+--------+--------+---------+---------+--------+---------+---------+--------------+--------------+----------+------+------+----------+--------+---------+---------+----------+-------------+---------------+---------+---------+--------+---------+---------+-------+---------+---------+---------+---------+---------+--------+--------+--------+----------+-------+----------+---------+---------+---------+---------+---------+--------+--------+----------+----------+---------+---------+---------+-------+-------+--------+--------+--------+---------+--------+------+----------+\n",
      "|2250802|   430000|       EP|  430370|       0|        0|        0|       5|        0|        I|96419775000175|             0|         0|202005|202005| 401010015|       6|        0|        2|         I|0000000000000|980016280789336|   223505|        0|       0|        0|        0|      0|        0|      H57|        0|     0000|        2|       4|     0.0|   130.0|         1|      F|         1|   430370|        1|        1|     32.4|     32.4|       0|       0|       0.0|       0.0|     32.4|        5|        1|      K|      0|    null|     0.0|     0.0|      0.0|    null|  null|      3999|\n",
      "|2250802|   430000|       EP|  430370|       0|        0|        0|       5|        0|        I|96419775000175|             0|         0|202005|202005| 301010072|       6|        0|        2|         I|0000000000000|702005399311284|   225125|        0|       0|        0|        0|      0|        0|      H57|        0|     0000|        2|       4|     0.0|   130.0|         1|      F|         1|   430370|        1|        1|     10.0|     10.0|       0|       0|       0.0|       0.0|     10.0|        5|        1|      K|      0|    null|     0.0|     0.0|      0.0|    null|  null|      3999|\n",
      "|2252244|   432145|       PG|  432145|       0|        0|        0|       5|        0|        I|89781173000106|             0|         0|202004|202004| 401010015|       6|        0|        2|         I|0000000000000|121917566050002|   223505|        0|       0|        0|        0|      0|        0|      H57|        0|        0|        2|      10|     0.0|   130.0|         1|      F|         1|   432145|        1|        1|     32.4|     32.4|       0|       0|       0.0|       0.0|     32.4|        5|        1|      R|      0|    null|     0.0|     0.0|      0.0|    null|  null|      3999|\n",
      "|2250802|   430000|       EP|  430370|       0|        0|        0|       5|        0|        I|96419775000175|             0|         0|202005|202005| 417010052|       6|        0|        2|         I|0000000000000|702005399311284|   225125|        0|       0|        0|        0|      0|        0|      H57|     0000|     0000|        2|       4|     0.0|   130.0|         1|      F|         1|   430370|        1|        1|    22.27|    22.27|       0|       0|       0.0|       0.0|    22.27|        5|        1|      K|      0|    null|     0.0|     0.0|      0.0|    null|  null|      3999|\n",
      "|2250802|   430000|       EP|  430370|       0|        0|        0|       5|        0|        I|96419775000175|             0|         0|202005|202005| 301060029|       6|        0|        2|         I|0000000000000|702005399311284|   225125|        0|       0|        0|        0|      0|        0|      H57|     0000|     0000|        2|       4|     0.0|   130.0|         1|      F|         1|   430370|        1|        1|    12.47|    12.47|       0|       0|       0.0|       0.0|    12.47|        5|        1|      K|      0|    null|     0.0|     0.0|      0.0|    null|  null|      3999|\n",
      "|2250802|   430000|       EP|  430370|       0|        0|        0|       5|        0|        I|96419775000175|             0|         0|202005|202005| 301100012|       6|        0|        2|         I|0000000000000|980016280789336|   223505|        0|       0|        0|        0|      0|        0|      H57|     0000|     0000|        2|       4|     0.0|   130.0|         1|      F|         1|   430370|        1|        1|     0.63|     0.63|       0|       0|       0.0|       0.0|     0.63|        5|        1|      R|      0|    null|     0.0|     0.0|      0.0|    null|  null|      3999|\n",
      "|2244314|   430000|       EP|  431940|       0|        0|        0|       5|        0|        M|87489910000168|87489910000168|         0|202006|202006| 301060029|       6|        0|        2|         I|0000000000000|128119056950008|   225125|        0|       0|        0|        0|      0|        0|      H57|        0|        0|        1|      22|     0.0|   130.0|         1|      M|        99|   431940|        1|        1|    12.47|    12.47|       0|       0|       0.0|       0.0|    12.47|        5|        1|      K|      0|    null|     0.0|     0.0|      0.0|    null|  null|      1244|\n",
      "|2250802|   430000|       EP|  430370|       0|        0|        0|       5|        0|        I|96419775000175|             0|         0|202005|202005| 301010048|       6|        0|        2|         I|0000000000000|980016280789336|   223505|        0|       0|        0|        0|      0|        0|      H57|     0000|     0000|        2|       4|     0.0|   130.0|         1|      F|         1|   430370|        1|        1|      6.3|      6.3|       0|       0|       0.0|       0.0|      6.3|        5|        1|      K|      0|    null|     0.0|     0.0|      0.0|    null|  null|      3999|\n",
      "|9461787|   430470|       PG|  430470|       0|        0|        0|      73|        0|        M|87613535000116|87613535000116|         0|202006|202006| 301060118|       6|        0|        2|         I|0000000000000|700008696596808|   223505|        0|       0|        0|        0|      0|        0|      H57|     0000|     0000|        1|      49|     0.0|   130.0|         1|      F|         1|   430470|        1|        1|      0.0|      0.0|       0|       0|       0.0|       0.0|      0.0|        5|        1|      K|      0|    null|     0.0|     0.0|      0.0|    null|  null|      1244|\n",
      "|9461787|   430470|       PG|  430470|       0|        0|        0|      73|        0|        M|87613535000116|87613535000116|         0|202006|202006| 301060118|       6|        0|        2|         I|0000000000000|980016296860043|   223505|        0|       0|        0|        0|      0|        0|      H57|        0|        0|        1|      53|     0.0|   130.0|         1|      F|         1|   430470|        1|        1|      0.0|      0.0|       0|       0|       0.0|       0.0|      0.0|        5|        1|      K|      0|    null|     0.0|     0.0|      0.0|    null|  null|      1244|\n",
      "|9461787|   430470|       PG|  430470|       0|        0|        0|      73|        0|        M|87613535000116|87613535000116|         0|202006|202006| 301060096|       6|        0|        2|         I|0000000000000|980016287428223|   225125|        0|       0|        0|        0|      0|        0|      H57|        0|        0|        1|      53|     0.0|   130.0|         1|      F|         1|   430470|        1|        1|     11.0|     11.0|       0|       0|       0.0|       0.0|     11.0|        5|        1|      K|      0|    null|     0.0|     0.0|      0.0|    null|  null|      1244|\n",
      "|9461787|   430470|       PG|  430470|       0|        0|        0|      73|        0|        M|87613535000116|87613535000116|         0|202006|202006| 301060029|       6|        0|        2|         I|0000000000000|980016287428223|   225125|        0|       0|        0|        0|      0|        0|      H57|        0|        0|        1|      49|     0.0|   130.0|         1|      F|         1|   430470|        1|        1|    12.47|    12.47|       0|       0|       0.0|       0.0|    12.47|        5|        1|      K|      0|    null|     0.0|     0.0|      0.0|    null|  null|      1244|\n",
      "|2244314|   430000|       EP|  431940|       0|        0|        0|       5|        0|        M|87489910000168|87489910000168|         0|202006|202006| 301060029|       6|        0|        2|         I|0000000000000|128119056950008|   225125|        0|       0|        0|        0|      0|        0|      H57|        0|     0000|        1|      54|     0.0|   130.0|         1|      M|         1|   431940|        1|        1|    12.47|    12.47|       0|       0|       0.0|       0.0|    12.47|        5|        1|      K|      0|    null|     0.0|     0.0|      0.0|    null|  null|      1244|\n",
      "|7652038|   430610|       PG|  430610|       0|        0|        0|      73|        0|        M|88775390000112|88775390000112|         0|202006|202006| 301060118|       6|        0|        2|         I|0000000000000|703001864420676|   225125|        0|       0|        0|        0|      0|        0|      H57|     0000|     0000|        1|      53|     0.0|   130.0|         1|      M|        99|   430610|        1|        1|      0.0|      0.0|       0|       0|       0.0|       0.0|      0.0|        5|        1|      K|      0|    null|     0.0|     0.0|      0.0|    null|  null|      1244|\n",
      "|2244136|   430000|       EP|  431980|       0|        0|        0|      62|        0|        M|87572079000103|87572079000103|         0|202006|202006| 301060029|       6|        0|        2|         I|0000000000000|709602634208971|   225125|        0|       0|        0|        0|      0|        0|      H57|        0|        0|        1|      29|     0.0|   130.0|         1|      M|         1|   431210|        1|        0|    12.47|      0.0|       0|       1|       0.0|       0.0|    12.47|        0|        5|      O|      0|    null|     0.0|     0.0|      0.0|    null|  null|      1244|\n",
      "|7652038|   430610|       PG|  430610|       0|        0|        0|      73|        0|        M|88775390000112|88775390000112|         0|202006|202006| 301060096|       6|        0|        2|         I|0000000000000|703001864420676|   225125|        0|       0|        0|        0|      0|        0|      H57|        0|        0|        1|      53|     0.0|   130.0|         1|      M|        99|   430610|        1|        1|     11.0|     11.0|       0|       0|       0.0|       0.0|     11.0|        5|        1|      K|      0|    null|     0.0|     0.0|      0.0|    null|  null|      1244|\n",
      "|2244136|   430000|       EP|  431980|       0|        0|        0|      62|        0|        M|87572079000103|87572079000103|         0|202006|202006| 301060029|       6|        0|        2|         I|0000000000000|709602634208971|   225125|        0|       0|        0|        0|      0|        0|      H57|        0|        0|        1|      29|     0.0|   130.0|         1|      M|         1|   431210|        1|        0|    12.47|      0.0|       0|       1|       0.0|       0.0|    12.47|        0|        5|      O|      0|    null|     0.0|     0.0|      0.0|    null|  null|      1244|\n",
      "|9461787|   430470|       PG|  430470|       0|        0|        0|      73|        0|        M|87613535000116|87613535000116|         0|202006|202006| 301060096|       6|        0|        2|         I|0000000000000|980016287428223|   225125|        0|       0|        0|        0|      0|        0|      H57|        0|     0000|        1|      49|     0.0|   130.0|         1|      F|         1|   430470|        1|        1|     11.0|     11.0|       0|       0|       0.0|       0.0|     11.0|        5|        1|      K|      0|    null|     0.0|     0.0|      0.0|    null|  null|      1244|\n",
      "|2244969|   430000|       EP|  431410|       0|        0|        0|       7|        0|        I|  765384000133|             0|         0|202007|202007| 211060259|       6|        0|        2|         I|0000000000000|708105535639833|   225265|        0|       0|        0|        0|      0|        0|      H57|     0000|     0000|        1|      60|     0.0|   130.0|         1|      F|        99|   431410|        1|        1|     3.37|     3.37|       0|       0|       0.0|       0.0|     3.37|        5|        1|      R|      0|    null|     0.0|     0.0|      0.0|131001.0|  null|      3069|\n",
      "|2244314|   430000|       EP|  431940|       0|        0|        0|       5|        0|        M|87489910000168|87489910000168|         0|202007|202007| 301060029|       6|        0|        2|         I|0000000000000|128119056950008|   225125|        0|       0|        0|        0|      0|        0|      H57|        0|        0|        1|      44|     0.0|   130.0|         1|      M|         1|   432149|        1|        1|    12.47|    12.47|       0|       1|       0.0|       0.0|    12.47|        5|        1|      K|      0|    null|     0.0|     0.0|      0.0|    null|  null|      1244|\n",
      "+-------+---------+---------+--------+--------+---------+---------+--------+---------+---------+--------------+--------------+----------+------+------+----------+--------+---------+---------+----------+-------------+---------------+---------+---------+--------+---------+---------+-------+---------+---------+---------+---------+---------+--------+--------+--------+----------+-------+----------+---------+---------+---------+---------+---------+--------+--------+----------+----------+---------+---------+---------+-------+-------+--------+--------+--------+---------+--------+------+----------+\n",
      "only showing top 20 rows\n",
      "\n"
     ]
    }
   ],
   "source": [
    "df.filter(df[\"PA_CIDPRI\"] == \"H57\").show()"
   ]
  },
  {
   "cell_type": "code",
   "execution_count": 11,
   "metadata": {},
   "outputs": [],
   "source": [
    "h57 = df.where('PA_CIDPRI like \"H57%\"') #.show()"
   ]
  },
  {
   "cell_type": "code",
   "execution_count": 12,
   "metadata": {},
   "outputs": [],
   "source": [
    "h57.write.saveAsTable(\"sample_h57\")"
   ]
  },
  {
   "cell_type": "code",
   "execution_count": 18,
   "metadata": {},
   "outputs": [
    {
     "name": "stdout",
     "output_type": "stream",
     "text": [
      "+--------+----------+-----------+\n",
      "|database| tableName|isTemporary|\n",
      "+--------+----------+-----------+\n",
      "| default|sample_h57|      false|\n",
      "|        |    tablea|       true|\n",
      "+--------+----------+-----------+\n",
      "\n"
     ]
    }
   ],
   "source": [
    "sqlContext.sql(\"show tables\").show()"
   ]
  },
  {
   "cell_type": "code",
   "execution_count": 15,
   "metadata": {},
   "outputs": [],
   "source": [
    "# Properties to connect to the database,\n",
    "# the JDBC driver is part of our build.sbt\n",
    "dbConnectionUrl = \"jdbc:postgresql://localhost:5432/datasus\"\n",
    "mode = \"overwrite\"\n",
    "table = \"h57\"\n",
    "properties = {\"user\": \"postgres\",\"password\": \"postgres\",\"driver\": \"org.postgresql.Driver\"}\n",
    "# Write in a table called ch02\n",
    "h57.write.jdbc(url=dbConnectionUrl, table=table, mode=mode, properties=properties)"
   ]
  },
  {
   "cell_type": "code",
   "execution_count": 16,
   "metadata": {},
   "outputs": [
    {
     "name": "stdout",
     "output_type": "stream",
     "text": [
      "+--------+\n",
      "|count(1)|\n",
      "+--------+\n",
      "|   61793|\n",
      "+--------+\n",
      "\n"
     ]
    }
   ],
   "source": [
    "sqlContext.sql(\"select count(1) from sample_h57\").show()"
   ]
  },
  {
   "cell_type": "code",
   "execution_count": 17,
   "metadata": {},
   "outputs": [
    {
     "data": {
      "text/plain": [
       "DataFrame[database: string, tableName: string, isTemporary: boolean]"
      ]
     },
     "execution_count": 17,
     "metadata": {},
     "output_type": "execute_result"
    }
   ],
   "source": [
    "spark.sql(\"SHOW TABLES\")"
   ]
  },
  {
   "cell_type": "code",
   "execution_count": 18,
   "metadata": {},
   "outputs": [],
   "source": [
    "# df.select(\"*\").toPandas()"
   ]
  },
  {
   "cell_type": "markdown",
   "metadata": {},
   "source": [
    "# End"
   ]
  },
  {
   "cell_type": "code",
   "execution_count": 15,
   "metadata": {},
   "outputs": [],
   "source": [
    "spark.stop()"
   ]
  },
  {
   "cell_type": "code",
   "execution_count": null,
   "metadata": {},
   "outputs": [],
   "source": [
    "# format2018df = load_data_using_2018_format(spark,\"2018*.csv\")\n",
    "\n",
    "# format2015df = load_data_using_2015_format(spark,\"2015*.csv\")\n",
    "\n",
    "# format2006df = load_data_using_2006_format(spark,\"200*.csv\")\n",
    "\n",
    "# format2006df2 = load_data_using_2006_format(spark,\"2012*.csv\")\n",
    "\n",
    "# df = format2018df.unionByName(format2015df).unionByName(format2006df).unionByName(format2006df2)\n"
   ]
  }
 ],
 "metadata": {
  "kernelspec": {
   "display_name": "Python 3",
   "language": "python",
   "name": "python3"
  },
  "language_info": {
   "codemirror_mode": {
    "name": "ipython",
    "version": 3
   },
   "file_extension": ".py",
   "mimetype": "text/x-python",
   "name": "python",
   "nbconvert_exporter": "python",
   "pygments_lexer": "ipython3",
   "version": "3.6.9"
  },
  "toc": {
   "base_numbering": 1,
   "nav_menu": {},
   "number_sections": true,
   "sideBar": true,
   "skip_h1_title": false,
   "title_cell": "Table of Contents",
   "title_sidebar": "Contents",
   "toc_cell": false,
   "toc_position": {},
   "toc_section_display": true,
   "toc_window_display": false
  },
  "varInspector": {
   "cols": {
    "lenName": 16,
    "lenType": 16,
    "lenVar": 40
   },
   "kernels_config": {
    "python": {
     "delete_cmd_postfix": "",
     "delete_cmd_prefix": "del ",
     "library": "var_list.py",
     "varRefreshCmd": "print(var_dic_list())"
    },
    "r": {
     "delete_cmd_postfix": ") ",
     "delete_cmd_prefix": "rm(",
     "library": "var_list.r",
     "varRefreshCmd": "cat(var_dic_list()) "
    }
   },
   "types_to_exclude": [
    "module",
    "function",
    "builtin_function_or_method",
    "instance",
    "_Feature"
   ],
   "window_display": false
  }
 },
 "nbformat": 4,
 "nbformat_minor": 2
}
